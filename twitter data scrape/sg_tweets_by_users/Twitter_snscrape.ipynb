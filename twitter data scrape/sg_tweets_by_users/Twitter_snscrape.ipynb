{
 "cells": [
  {
   "cell_type": "markdown",
   "id": "11ea7be1",
   "metadata": {},
   "source": [
    "snscrape\n",
    "\n",
    "Ref: https://github.com/JustAnotherArchivist/snscrape"
   ]
  },
  {
   "cell_type": "code",
   "execution_count": null,
   "id": "10a01bda",
   "metadata": {},
   "outputs": [],
   "source": [
    "# %pip install snscrape\n",
    "# %pip install git+https://github.com/JustAnotherArchivist/snscrape.git\n",
    "# %pip install pandas"
   ]
  },
  {
   "cell_type": "code",
   "execution_count": 1,
   "id": "b5a5c8df",
   "metadata": {},
   "outputs": [],
   "source": [
    "import snscrape.modules.twitter as sntwitter\n",
    "import pandas as pd"
   ]
  },
  {
   "cell_type": "code",
   "execution_count": 40,
   "id": "9ab6fbee",
   "metadata": {},
   "outputs": [],
   "source": [
    "# Creating list to append tweet data \n",
    "tweets_list = []\n",
    "\n",
    "# Using TwitterSearchScraper to scrape data and append tweets to list\n",
    "handle = 'realDonaldTrump'\n",
    "\n",
    "for i, tweet in enumerate(sntwitter.TwitterSearchScraper('from:' + handle + ' covid OR coronavirus since:2020-01-01 until:2023-02-28').get_items()):\n",
    "    if i > 1000: #number of tweets you want to scrape\n",
    "        break\n",
    "\n",
    "    #declare the attributes to be returned\n",
    "    tweets_list.append([tweet.date, tweet.renderedContent, tweet.user])\n",
    "\n",
    "# Creating a dataframe from the tweets list above \n",
    "tweets_df = pd.DataFrame(tweets_list, columns=['date', 'renderedContent', 'user'])"
   ]
  },
  {
   "cell_type": "code",
   "execution_count": 41,
   "id": "fa55da47",
   "metadata": {},
   "outputs": [
    {
     "data": {
      "text/html": [
       "<div>\n",
       "<style scoped>\n",
       "    .dataframe tbody tr th:only-of-type {\n",
       "        vertical-align: middle;\n",
       "    }\n",
       "\n",
       "    .dataframe tbody tr th {\n",
       "        vertical-align: top;\n",
       "    }\n",
       "\n",
       "    .dataframe thead th {\n",
       "        text-align: right;\n",
       "    }\n",
       "</style>\n",
       "<table border=\"1\" class=\"dataframe\">\n",
       "  <thead>\n",
       "    <tr style=\"text-align: right;\">\n",
       "      <th></th>\n",
       "      <th>date</th>\n",
       "      <th>renderedContent</th>\n",
       "      <th>user</th>\n",
       "    </tr>\n",
       "  </thead>\n",
       "  <tbody>\n",
       "  </tbody>\n",
       "</table>\n",
       "</div>"
      ],
      "text/plain": [
       "Empty DataFrame\n",
       "Columns: [date, renderedContent, user]\n",
       "Index: []"
      ]
     },
     "execution_count": 41,
     "metadata": {},
     "output_type": "execute_result"
    }
   ],
   "source": [
    "tweets_df.head()"
   ]
  },
  {
   "cell_type": "code",
   "execution_count": 42,
   "id": "cd5c46c6",
   "metadata": {},
   "outputs": [
    {
     "name": "stdout",
     "output_type": "stream",
     "text": [
      "<class 'pandas.core.frame.DataFrame'>\n",
      "Index: 0 entries\n",
      "Data columns (total 3 columns):\n",
      " #   Column           Non-Null Count  Dtype \n",
      "---  ------           --------------  ----- \n",
      " 0   date             0 non-null      object\n",
      " 1   renderedContent  0 non-null      object\n",
      " 2   user             0 non-null      object\n",
      "dtypes: object(3)\n",
      "memory usage: 0.0+ bytes\n"
     ]
    }
   ],
   "source": [
    "tweets_df.info()"
   ]
  },
  {
   "cell_type": "code",
   "execution_count": 39,
   "id": "28ea7610",
   "metadata": {},
   "outputs": [],
   "source": [
    "tweets_df.to_csv(f'{handle}_tweets.csv', index=False)"
   ]
  },
  {
   "cell_type": "code",
   "execution_count": null,
   "id": "1998afa2",
   "metadata": {},
   "outputs": [],
   "source": []
  }
 ],
 "metadata": {
  "kernelspec": {
   "display_name": "Python 3 (ipykernel)",
   "language": "python",
   "name": "python3"
  },
  "language_info": {
   "codemirror_mode": {
    "name": "ipython",
    "version": 3
   },
   "file_extension": ".py",
   "mimetype": "text/x-python",
   "name": "python",
   "nbconvert_exporter": "python",
   "pygments_lexer": "ipython3",
   "version": "3.9.13"
  }
 },
 "nbformat": 4,
 "nbformat_minor": 5
}
