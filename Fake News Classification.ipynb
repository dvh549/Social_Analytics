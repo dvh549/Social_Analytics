{
 "cells": [
  {
   "cell_type": "code",
   "execution_count": 1,
   "id": "b6bc251b",
   "metadata": {},
   "outputs": [],
   "source": [
    "# %pip install tweet-preprocessor"
   ]
  },
  {
   "cell_type": "code",
   "execution_count": 2,
   "id": "b61df990",
   "metadata": {},
   "outputs": [],
   "source": [
    "import pandas as pd\n",
    "import pickle\n",
    "\n",
    "import nltk\n",
    "from nltk.corpus import stopwords\n",
    "stop_words = set(stopwords.words('english'))\n",
    "import preprocessor as p\n",
    "\n",
    "from sklearn.feature_extraction.text import TfidfVectorizer\n",
    "from sklearn.model_selection import train_test_split\n",
    "from sklearn.linear_model import LogisticRegression\n",
    "from sklearn.naive_bayes import MultinomialNB\n",
    "from sklearn.linear_model import PassiveAggressiveClassifier\n",
    "from sklearn.metrics import classification_report"
   ]
  },
  {
   "cell_type": "code",
   "execution_count": 3,
   "id": "feeac01f",
   "metadata": {},
   "outputs": [],
   "source": [
    "fake_news = pd.read_csv(\"data/fake_news.csv\")"
   ]
  },
  {
   "cell_type": "markdown",
   "id": "0fa03eec",
   "metadata": {},
   "source": [
    "## Text pre-processing"
   ]
  },
  {
   "cell_type": "code",
   "execution_count": 4,
   "id": "fff19f05",
   "metadata": {},
   "outputs": [],
   "source": [
    "def preprocess(text):\n",
    "    text = p.clean(text)\n",
    "    tokenization = nltk.word_tokenize(text)     \n",
    "    tokenization = [w for w in tokenization if not w in stop_words]   \n",
    "    return text"
   ]
  },
  {
   "cell_type": "code",
   "execution_count": 5,
   "id": "8db475ff",
   "metadata": {},
   "outputs": [],
   "source": [
    "fake_news['tweet'] = fake_news['tweet'].apply(preprocess)"
   ]
  },
  {
   "cell_type": "code",
   "execution_count": 6,
   "id": "dbd43312",
   "metadata": {},
   "outputs": [],
   "source": [
    "def binary_map(x):\n",
    "    if x == \"real\":\n",
    "        return 0\n",
    "    else:\n",
    "        return 1\n",
    "\n",
    "fake_news[\"label\"] = fake_news[\"label\"].apply(binary_map)"
   ]
  },
  {
   "cell_type": "code",
   "execution_count": 7,
   "id": "145b813d",
   "metadata": {},
   "outputs": [],
   "source": [
    "X = fake_news['tweet'].values\n",
    "y = fake_news['label'].values"
   ]
  },
  {
   "cell_type": "code",
   "execution_count": 8,
   "id": "6380cbd5",
   "metadata": {},
   "outputs": [],
   "source": [
    "vectorizer = TfidfVectorizer()\n",
    "X = vectorizer.fit_transform(X)"
   ]
  },
  {
   "cell_type": "code",
   "execution_count": 9,
   "id": "17cafc2b",
   "metadata": {},
   "outputs": [],
   "source": [
    "# pickle.dump(vectorizer, open(\"models/misinformation/vectorizer.txt\", \"wb\"))"
   ]
  },
  {
   "cell_type": "code",
   "execution_count": 10,
   "id": "da74914d",
   "metadata": {},
   "outputs": [],
   "source": [
    "X_train, X_test, y_train, y_test = train_test_split(X, y, test_size = 0.2, stratify=y, random_state=42)"
   ]
  },
  {
   "cell_type": "markdown",
   "id": "37ed7c93",
   "metadata": {},
   "source": [
    "## Logistic Regression"
   ]
  },
  {
   "cell_type": "code",
   "execution_count": 11,
   "id": "69e7bebd",
   "metadata": {},
   "outputs": [
    {
     "data": {
      "text/plain": [
       "(0.9508177570093458, 0.9191588785046729)"
      ]
     },
     "execution_count": 11,
     "metadata": {},
     "output_type": "execute_result"
    }
   ],
   "source": [
    "logreg = LogisticRegression()\n",
    "logreg.fit(X_train, y_train)\n",
    "y_pred = logreg.predict(X_test)\n",
    "logreg.score(X_train, y_train), logreg.score(X_test, y_test)"
   ]
  },
  {
   "cell_type": "code",
   "execution_count": 12,
   "id": "33167938",
   "metadata": {},
   "outputs": [
    {
     "name": "stdout",
     "output_type": "stream",
     "text": [
      "              precision    recall  f1-score   support\n",
      "\n",
      "           0       0.93      0.91      0.92      1120\n",
      "           1       0.91      0.92      0.92      1020\n",
      "\n",
      "    accuracy                           0.92      2140\n",
      "   macro avg       0.92      0.92      0.92      2140\n",
      "weighted avg       0.92      0.92      0.92      2140\n",
      "\n"
     ]
    }
   ],
   "source": [
    "print(classification_report(y_test, y_pred))"
   ]
  },
  {
   "cell_type": "markdown",
   "id": "7c7f17c1",
   "metadata": {},
   "source": [
    "## Multinomial Naive Bayes"
   ]
  },
  {
   "cell_type": "code",
   "execution_count": 13,
   "id": "caae42c9",
   "metadata": {},
   "outputs": [
    {
     "data": {
      "text/plain": [
       "(0.9436915887850468, 0.8943925233644859)"
      ]
     },
     "execution_count": 13,
     "metadata": {},
     "output_type": "execute_result"
    }
   ],
   "source": [
    "mnb = MultinomialNB()\n",
    "mnb.fit(X_train, y_train)\n",
    "y_pred = mnb.predict(X_test)\n",
    "mnb.score(X_train, y_train), mnb.score(X_test, y_test)"
   ]
  },
  {
   "cell_type": "code",
   "execution_count": 14,
   "id": "e1671d49",
   "metadata": {},
   "outputs": [
    {
     "name": "stdout",
     "output_type": "stream",
     "text": [
      "              precision    recall  f1-score   support\n",
      "\n",
      "           0       0.86      0.95      0.90      1120\n",
      "           1       0.93      0.84      0.88      1020\n",
      "\n",
      "    accuracy                           0.89      2140\n",
      "   macro avg       0.90      0.89      0.89      2140\n",
      "weighted avg       0.90      0.89      0.89      2140\n",
      "\n"
     ]
    }
   ],
   "source": [
    "print(classification_report(y_test, y_pred))"
   ]
  },
  {
   "cell_type": "markdown",
   "id": "88757002",
   "metadata": {},
   "source": [
    "## Passive Aggressive Classifier"
   ]
  },
  {
   "cell_type": "code",
   "execution_count": 15,
   "id": "d9d8072d",
   "metadata": {},
   "outputs": [
    {
     "data": {
      "text/plain": [
       "(1.0, 0.9205607476635514)"
      ]
     },
     "execution_count": 15,
     "metadata": {},
     "output_type": "execute_result"
    }
   ],
   "source": [
    "pac = PassiveAggressiveClassifier(max_iter=50)\n",
    "pac.fit(X_train, y_train)\n",
    "y_pred = pac.predict(X_test)\n",
    "pac.score(X_train, y_train), pac.score(X_test, y_test)"
   ]
  },
  {
   "cell_type": "code",
   "execution_count": 16,
   "id": "253b766a",
   "metadata": {},
   "outputs": [
    {
     "name": "stdout",
     "output_type": "stream",
     "text": [
      "              precision    recall  f1-score   support\n",
      "\n",
      "           0       0.92      0.93      0.92      1120\n",
      "           1       0.92      0.91      0.92      1020\n",
      "\n",
      "    accuracy                           0.92      2140\n",
      "   macro avg       0.92      0.92      0.92      2140\n",
      "weighted avg       0.92      0.92      0.92      2140\n",
      "\n"
     ]
    }
   ],
   "source": [
    "print(classification_report(y_test, y_pred))"
   ]
  },
  {
   "cell_type": "markdown",
   "id": "c38a4b60",
   "metadata": {},
   "source": [
    "## Best (Consistent) Model"
   ]
  },
  {
   "cell_type": "code",
   "execution_count": 17,
   "id": "9b624402",
   "metadata": {},
   "outputs": [],
   "source": [
    "# load vectorizer\n",
    "\n",
    "vectorizer = pickle.load(open(\"models/misinformation/vectorizer.txt\", \"rb\"))"
   ]
  },
  {
   "cell_type": "code",
   "execution_count": 18,
   "id": "d8c69bc3",
   "metadata": {},
   "outputs": [],
   "source": [
    "fake = vectorizer.transform([preprocess(\"Politically Correct Woman (Almost) Uses Pandemic as Excuse Not to Reuse Plastic Bag https://t.co/thF8GuNFPe #coronavirus #nashville\")])\n",
    "real = vectorizer.transform([preprocess(\"The CDC currently reports 99031 deaths. In general the discrepancies in death counts between different sources are small and explicable. The death toll stands at roughly 100000 people today.\")])"
   ]
  },
  {
   "cell_type": "code",
   "execution_count": 19,
   "id": "f87adaa6",
   "metadata": {},
   "outputs": [],
   "source": [
    "test = vectorizer.transform([preprocess(\"Both my girls contracted covid and theyâ€™re just 8 months old, wife and i will be taking care of them until theyâ€™re back to their best\")])"
   ]
  },
  {
   "cell_type": "code",
   "execution_count": 20,
   "id": "11c2daa5",
   "metadata": {},
   "outputs": [
    {
     "data": {
      "text/plain": [
       "('Fake', 'Real', 'Fake')"
      ]
     },
     "execution_count": 20,
     "metadata": {},
     "output_type": "execute_result"
    }
   ],
   "source": [
    "def fake_or_real(pred):\n",
    "    if pred == 0:\n",
    "        return \"Real\"\n",
    "    else:\n",
    "        return \"Fake\"\n",
    "    \n",
    "fake_or_real(logreg.predict(fake)[0]), fake_or_real(logreg.predict(real)[0]), fake_or_real(logreg.predict(test)[0]) # ignore test because model was not trained on people's experiences"
   ]
  },
  {
   "cell_type": "code",
   "execution_count": 21,
   "id": "ce583e06",
   "metadata": {},
   "outputs": [],
   "source": [
    "# logreg_filename = \"models/misinformation/logreg.txt\""
   ]
  },
  {
   "cell_type": "code",
   "execution_count": 22,
   "id": "0729876b",
   "metadata": {},
   "outputs": [],
   "source": [
    "# save model\n",
    "\n",
    "# pickle.dump(logreg, open(logreg_filename, \"wb\"))"
   ]
  },
  {
   "cell_type": "code",
   "execution_count": 23,
   "id": "875c65f2",
   "metadata": {},
   "outputs": [],
   "source": [
    "# load model\n",
    "\n",
    "# logreg = pickle.load(open(logreg_filename, 'rb'))\n",
    "# fake_or_real(logreg.predict(fake)[0]), fake_or_real(logreg.predict(real)[0])"
   ]
  }
 ],
 "metadata": {
  "kernelspec": {
   "display_name": "Python 3",
   "language": "python",
   "name": "python3"
  },
  "language_info": {
   "codemirror_mode": {
    "name": "ipython",
    "version": 3
   },
   "file_extension": ".py",
   "mimetype": "text/x-python",
   "name": "python",
   "nbconvert_exporter": "python",
   "pygments_lexer": "ipython3",
   "version": "3.9.13"
  }
 },
 "nbformat": 4,
 "nbformat_minor": 5
}
