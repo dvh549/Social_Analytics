{
 "cells": [
  {
   "cell_type": "markdown",
   "id": "11ea7be1",
   "metadata": {},
   "source": [
    "snscrape\n",
    "\n",
    "Ref: https://github.com/JustAnotherArchivist/snscrape"
   ]
  },
  {
   "cell_type": "code",
   "execution_count": null,
   "id": "10a01bda",
   "metadata": {},
   "outputs": [],
   "source": [
    "# %pip install snscrape\n",
    "# %pip install git+https://github.com/JustAnotherArchivist/snscrape.git\n",
    "# %pip install pandas"
   ]
  },
  {
   "cell_type": "code",
   "execution_count": 2,
   "id": "b5a5c8df",
   "metadata": {},
   "outputs": [],
   "source": [
    "import snscrape.modules.twitter as sntwitter\n",
    "import pandas as pd"
   ]
  },
  {
   "cell_type": "code",
   "execution_count": 3,
   "id": "9ab6fbee",
   "metadata": {},
   "outputs": [],
   "source": [
    "# Creating list to append tweet data \n",
    "tweets_list = []\n",
    "\n",
    "# Using TwitterSearchScraper to scrape data and append tweets to list\n",
    "handle = 'DanOgunshakin'\n",
    "\n",
    "for i, tweet in enumerate(sntwitter.TwitterSearchScraper('from:' + handle + ' covid OR coronavirus since:2020-01-01 until:2023-02-28').get_items()):\n",
    "    if i > 1000: #number of tweets you want to scrape\n",
    "        break\n",
    "\n",
    "    #declare the attributes to be returned\n",
    "    tweets_list.append([tweet.date, tweet.renderedContent, tweet.user])\n",
    "\n",
    "# Creating a dataframe from the tweets list above \n",
    "tweets_df = pd.DataFrame(tweets_list, columns=['date', 'renderedContent', 'user'])"
   ]
  },
  {
   "cell_type": "code",
   "execution_count": 4,
   "id": "fa55da47",
   "metadata": {},
   "outputs": [
    {
     "data": {
      "text/html": [
       "<div>\n",
       "<style scoped>\n",
       "    .dataframe tbody tr th:only-of-type {\n",
       "        vertical-align: middle;\n",
       "    }\n",
       "\n",
       "    .dataframe tbody tr th {\n",
       "        vertical-align: top;\n",
       "    }\n",
       "\n",
       "    .dataframe thead th {\n",
       "        text-align: right;\n",
       "    }\n",
       "</style>\n",
       "<table border=\"1\" class=\"dataframe\">\n",
       "  <thead>\n",
       "    <tr style=\"text-align: right;\">\n",
       "      <th></th>\n",
       "      <th>date</th>\n",
       "      <th>renderedContent</th>\n",
       "      <th>user</th>\n",
       "    </tr>\n",
       "  </thead>\n",
       "  <tbody>\n",
       "    <tr>\n",
       "      <th>0</th>\n",
       "      <td>2022-10-16 08:09:08+00:00</td>\n",
       "      <td>@thesulaimandaud And what happened that season...</td>\n",
       "      <td>https://twitter.com/DanOgunshakin</td>\n",
       "    </tr>\n",
       "    <tr>\n",
       "      <th>1</th>\n",
       "      <td>2022-04-27 21:30:10+00:00</td>\n",
       "      <td>That'll be great should we face another pandem...</td>\n",
       "      <td>https://twitter.com/DanOgunshakin</td>\n",
       "    </tr>\n",
       "    <tr>\n",
       "      <th>2</th>\n",
       "      <td>2022-03-27 15:44:18+00:00</td>\n",
       "      <td>@AdamFlinter Covid. Otherwise I'm sure he woul...</td>\n",
       "      <td>https://twitter.com/DanOgunshakin</td>\n",
       "    </tr>\n",
       "    <tr>\n",
       "      <th>3</th>\n",
       "      <td>2022-03-23 13:15:36+00:00</td>\n",
       "      <td>The government has been responsible with the p...</td>\n",
       "      <td>https://twitter.com/DanOgunshakin</td>\n",
       "    </tr>\n",
       "    <tr>\n",
       "      <th>4</th>\n",
       "      <td>2022-01-25 08:20:17+00:00</td>\n",
       "      <td>Grant Schapps being absolutely torn to pieces ...</td>\n",
       "      <td>https://twitter.com/DanOgunshakin</td>\n",
       "    </tr>\n",
       "  </tbody>\n",
       "</table>\n",
       "</div>"
      ],
      "text/plain": [
       "                       date  \\\n",
       "0 2022-10-16 08:09:08+00:00   \n",
       "1 2022-04-27 21:30:10+00:00   \n",
       "2 2022-03-27 15:44:18+00:00   \n",
       "3 2022-03-23 13:15:36+00:00   \n",
       "4 2022-01-25 08:20:17+00:00   \n",
       "\n",
       "                                     renderedContent  \\\n",
       "0  @thesulaimandaud And what happened that season...   \n",
       "1  That'll be great should we face another pandem...   \n",
       "2  @AdamFlinter Covid. Otherwise I'm sure he woul...   \n",
       "3  The government has been responsible with the p...   \n",
       "4  Grant Schapps being absolutely torn to pieces ...   \n",
       "\n",
       "                                user  \n",
       "0  https://twitter.com/DanOgunshakin  \n",
       "1  https://twitter.com/DanOgunshakin  \n",
       "2  https://twitter.com/DanOgunshakin  \n",
       "3  https://twitter.com/DanOgunshakin  \n",
       "4  https://twitter.com/DanOgunshakin  "
      ]
     },
     "execution_count": 4,
     "metadata": {},
     "output_type": "execute_result"
    }
   ],
   "source": [
    "tweets_df.head()"
   ]
  },
  {
   "cell_type": "code",
   "execution_count": 5,
   "id": "cd5c46c6",
   "metadata": {},
   "outputs": [
    {
     "name": "stdout",
     "output_type": "stream",
     "text": [
      "<class 'pandas.core.frame.DataFrame'>\n",
      "RangeIndex: 76 entries, 0 to 75\n",
      "Data columns (total 3 columns):\n",
      " #   Column           Non-Null Count  Dtype              \n",
      "---  ------           --------------  -----              \n",
      " 0   date             76 non-null     datetime64[ns, UTC]\n",
      " 1   renderedContent  76 non-null     object             \n",
      " 2   user             76 non-null     object             \n",
      "dtypes: datetime64[ns, UTC](1), object(2)\n",
      "memory usage: 1.9+ KB\n"
     ]
    }
   ],
   "source": [
    "tweets_df.info()"
   ]
  },
  {
   "cell_type": "code",
   "execution_count": 6,
   "id": "28ea7610",
   "metadata": {},
   "outputs": [],
   "source": [
    "tweets_df.to_csv(f'{handle}_tweets.csv', index=False)"
   ]
  },
  {
   "cell_type": "code",
   "execution_count": null,
   "id": "1998afa2",
   "metadata": {},
   "outputs": [],
   "source": []
  }
 ],
 "metadata": {
  "kernelspec": {
   "display_name": "Python 3 (ipykernel)",
   "language": "python",
   "name": "python3"
  },
  "language_info": {
   "codemirror_mode": {
    "name": "ipython",
    "version": 3
   },
   "file_extension": ".py",
   "mimetype": "text/x-python",
   "name": "python",
   "nbconvert_exporter": "python",
   "pygments_lexer": "ipython3",
   "version": "3.9.13"
  }
 },
 "nbformat": 4,
 "nbformat_minor": 5
}
