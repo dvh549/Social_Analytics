{
 "cells": [
  {
   "cell_type": "code",
   "execution_count": 1,
   "id": "68674e1a",
   "metadata": {},
   "outputs": [],
   "source": [
    "# %pip install tweet-preprocessor"
   ]
  },
  {
   "cell_type": "code",
   "execution_count": 2,
   "id": "aa34b343",
   "metadata": {},
   "outputs": [],
   "source": [
    "import numpy as np\n",
    "import pandas as pd\n",
    "import re\n",
    "import pickle\n",
    "\n",
    "import nltk\n",
    "from nltk.corpus import stopwords\n",
    "stop_words = set(stopwords.words('english'))\n",
    "import preprocessor as p\n",
    "\n",
    "from sklearn.feature_extraction.text import TfidfVectorizer\n",
    "from sklearn.model_selection import train_test_split\n",
    "from sklearn.linear_model import LogisticRegression\n",
    "from sklearn.naive_bayes import MultinomialNB\n",
    "from sklearn.linear_model import PassiveAggressiveClassifier\n",
    "from sklearn.metrics import classification_report"
   ]
  },
  {
   "cell_type": "code",
   "execution_count": 3,
   "id": "62042f5a",
   "metadata": {},
   "outputs": [],
   "source": [
    "fake_news = pd.read_csv(\"data/fake_news.csv\")"
   ]
  },
  {
   "cell_type": "markdown",
   "id": "d4cceeaa",
   "metadata": {},
   "source": [
    "## Text pre-processing"
   ]
  },
  {
   "cell_type": "code",
   "execution_count": 4,
   "id": "43872cce",
   "metadata": {},
   "outputs": [],
   "source": [
    "def preprocess(text):\n",
    "    text = p.clean(text)\n",
    "    tokenization = nltk.word_tokenize(text)     \n",
    "    tokenization = [w for w in tokenization if not w in stop_words]   \n",
    "    return text"
   ]
  },
  {
   "cell_type": "code",
   "execution_count": 5,
   "id": "f0474ac4",
   "metadata": {},
   "outputs": [],
   "source": [
    "fake_news['tweet'] = fake_news['tweet'].apply(preprocess)"
   ]
  },
  {
   "cell_type": "code",
   "execution_count": 6,
   "id": "eea76664",
   "metadata": {},
   "outputs": [],
   "source": [
    "def binary_map(x):\n",
    "    if x == \"real\":\n",
    "        return 0\n",
    "    else:\n",
    "        return 1\n",
    "\n",
    "fake_news[\"label\"] = fake_news[\"label\"].apply(binary_map)"
   ]
  },
  {
   "cell_type": "code",
   "execution_count": 7,
   "id": "7e170b6f",
   "metadata": {},
   "outputs": [],
   "source": [
    "X = fake_news['tweet'].values\n",
    "y = fake_news['label'].values"
   ]
  },
  {
   "cell_type": "code",
   "execution_count": 8,
   "id": "e357e04a",
   "metadata": {},
   "outputs": [],
   "source": [
    "vectorizer = TfidfVectorizer()\n",
    "X = vectorizer.fit_transform(X)"
   ]
  },
  {
   "cell_type": "code",
   "execution_count": 9,
   "id": "d9012d34",
   "metadata": {},
   "outputs": [],
   "source": [
    "X_train, X_test, y_train, y_test = train_test_split(X, y, test_size = 0.2, stratify=y, random_state=42)"
   ]
  },
  {
   "cell_type": "markdown",
   "id": "478520b2",
   "metadata": {},
   "source": [
    "## Logistic Regression"
   ]
  },
  {
   "cell_type": "code",
   "execution_count": 10,
   "id": "8980802d",
   "metadata": {},
   "outputs": [
    {
     "data": {
      "text/plain": [
       "(0.9508177570093458, 0.9191588785046729)"
      ]
     },
     "execution_count": 10,
     "metadata": {},
     "output_type": "execute_result"
    }
   ],
   "source": [
    "logreg = LogisticRegression()\n",
    "logreg.fit(X_train, y_train)\n",
    "y_pred = logreg.predict(X_test)\n",
    "logreg.score(X_train, y_train), logreg.score(X_test, y_test)"
   ]
  },
  {
   "cell_type": "code",
   "execution_count": 11,
   "id": "521e8ab3",
   "metadata": {},
   "outputs": [
    {
     "name": "stdout",
     "output_type": "stream",
     "text": [
      "              precision    recall  f1-score   support\n",
      "\n",
      "           0       0.93      0.91      0.92      1120\n",
      "           1       0.91      0.92      0.92      1020\n",
      "\n",
      "    accuracy                           0.92      2140\n",
      "   macro avg       0.92      0.92      0.92      2140\n",
      "weighted avg       0.92      0.92      0.92      2140\n",
      "\n"
     ]
    }
   ],
   "source": [
    "print(classification_report(y_test, y_pred))"
   ]
  },
  {
   "cell_type": "markdown",
   "id": "f8706941",
   "metadata": {},
   "source": [
    "## Multinomial Naive Bayes"
   ]
  },
  {
   "cell_type": "code",
   "execution_count": 12,
   "id": "d03d7961",
   "metadata": {},
   "outputs": [
    {
     "data": {
      "text/plain": [
       "(0.9436915887850468, 0.8943925233644859)"
      ]
     },
     "execution_count": 12,
     "metadata": {},
     "output_type": "execute_result"
    }
   ],
   "source": [
    "mnb = MultinomialNB()\n",
    "mnb.fit(X_train, y_train)\n",
    "y_pred = mnb.predict(X_test)\n",
    "mnb.score(X_train, y_train), mnb.score(X_test, y_test)"
   ]
  },
  {
   "cell_type": "code",
   "execution_count": 13,
   "id": "29745404",
   "metadata": {},
   "outputs": [
    {
     "name": "stdout",
     "output_type": "stream",
     "text": [
      "              precision    recall  f1-score   support\n",
      "\n",
      "           0       0.86      0.95      0.90      1120\n",
      "           1       0.93      0.84      0.88      1020\n",
      "\n",
      "    accuracy                           0.89      2140\n",
      "   macro avg       0.90      0.89      0.89      2140\n",
      "weighted avg       0.90      0.89      0.89      2140\n",
      "\n"
     ]
    }
   ],
   "source": [
    "print(classification_report(y_test, y_pred))"
   ]
  },
  {
   "cell_type": "markdown",
   "id": "331dd8d6",
   "metadata": {},
   "source": [
    "## Passive Aggressive Classifier"
   ]
  },
  {
   "cell_type": "code",
   "execution_count": 14,
   "id": "04471502",
   "metadata": {},
   "outputs": [
    {
     "data": {
      "text/plain": [
       "(1.0, 0.9196261682242991)"
      ]
     },
     "execution_count": 14,
     "metadata": {},
     "output_type": "execute_result"
    }
   ],
   "source": [
    "pac = PassiveAggressiveClassifier(max_iter=50)\n",
    "pac.fit(X_train, y_train)\n",
    "y_pred = pac.predict(X_test)\n",
    "pac.score(X_train, y_train), pac.score(X_test, y_test)"
   ]
  },
  {
   "cell_type": "code",
   "execution_count": 15,
   "id": "b5eaa864",
   "metadata": {},
   "outputs": [
    {
     "name": "stdout",
     "output_type": "stream",
     "text": [
      "              precision    recall  f1-score   support\n",
      "\n",
      "           0       0.92      0.93      0.92      1120\n",
      "           1       0.92      0.91      0.91      1020\n",
      "\n",
      "    accuracy                           0.92      2140\n",
      "   macro avg       0.92      0.92      0.92      2140\n",
      "weighted avg       0.92      0.92      0.92      2140\n",
      "\n"
     ]
    }
   ],
   "source": [
    "print(classification_report(y_test, y_pred))"
   ]
  },
  {
   "cell_type": "markdown",
   "id": "ebb46d78",
   "metadata": {},
   "source": [
    "## Best (Consistent) Model"
   ]
  },
  {
   "cell_type": "code",
   "execution_count": 16,
   "id": "2d6b346c",
   "metadata": {},
   "outputs": [],
   "source": [
    "fake = vectorizer.transform([preprocess(\"Politically Correct Woman (Almost) Uses Pandemic as Excuse Not to Reuse Plastic Bag https://t.co/thF8GuNFPe #coronavirus #nashville\")])\n",
    "real = vectorizer.transform([preprocess(\"The CDC currently reports 99031 deaths. In general the discrepancies in death counts between different sources are small and explicable. The death toll stands at roughly 100000 people today.\")])"
   ]
  },
  {
   "cell_type": "code",
   "execution_count": 17,
   "id": "a3aefbb1",
   "metadata": {},
   "outputs": [
    {
     "data": {
      "text/plain": [
       "('Fake', 'Real')"
      ]
     },
     "execution_count": 17,
     "metadata": {},
     "output_type": "execute_result"
    }
   ],
   "source": [
    "def fake_or_real(pred):\n",
    "    if pred == 0:\n",
    "        return \"Real\"\n",
    "    else:\n",
    "        return \"Fake\"\n",
    "    \n",
    "fake_or_real(logreg.predict(fake)[0]), fake_or_real(logreg.predict(real)[0])"
   ]
  },
  {
   "cell_type": "code",
   "execution_count": 18,
   "id": "40da202e",
   "metadata": {},
   "outputs": [],
   "source": [
    "logreg_filename = \"models/misinformation/logreg.txt\""
   ]
  },
  {
   "cell_type": "code",
   "execution_count": 19,
   "id": "669a3b84",
   "metadata": {},
   "outputs": [],
   "source": [
    "# save model\n",
    "\n",
    "# pickle.dump(logreg, open(logreg_filename, \"wb\"))"
   ]
  },
  {
   "cell_type": "code",
   "execution_count": 20,
   "id": "2ff97cc9",
   "metadata": {},
   "outputs": [
    {
     "data": {
      "text/plain": [
       "('Fake', 'Real')"
      ]
     },
     "execution_count": 20,
     "metadata": {},
     "output_type": "execute_result"
    }
   ],
   "source": [
    "# load model\n",
    "\n",
    "logreg = pickle.load(open(logreg_filename, 'rb'))\n",
    "fake_or_real(logreg.predict(fake)[0]), fake_or_real(logreg.predict(real)[0])"
   ]
  }
 ],
 "metadata": {
  "kernelspec": {
   "display_name": "Python 3",
   "language": "python",
   "name": "python3"
  },
  "language_info": {
   "codemirror_mode": {
    "name": "ipython",
    "version": 3
   },
   "file_extension": ".py",
   "mimetype": "text/x-python",
   "name": "python",
   "nbconvert_exporter": "python",
   "pygments_lexer": "ipython3",
   "version": "3.9.13"
  }
 },
 "nbformat": 4,
 "nbformat_minor": 5
}
